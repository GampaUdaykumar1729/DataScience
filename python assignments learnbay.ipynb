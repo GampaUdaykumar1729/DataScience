{
 "cells": [
  {
   "cell_type": "code",
   "execution_count": null,
   "metadata": {},
   "outputs": [],
   "source": [
    "#1.Predict Output:\n",
    "s1 =\"Gaurav\"\n",
    "s2 =\"tuteur.py@gmail.com\"\n",
    "print(len(s1),len(s2))"
   ]
  },
  {
   "cell_type": "code",
   "execution_count": null,
   "metadata": {},
   "outputs": [],
   "source": [
    "#2.WAP to input a string and print its length.\n",
    "str1 = input(\"enter the string:\")\n",
    "print(len(str1))\n"
   ]
  },
  {
   "cell_type": "code",
   "execution_count": null,
   "metadata": {},
   "outputs": [],
   "source": [
    "#3.WAP to input 2 numbers and print their sum and difference.\n",
    "n1 = int(input(\"enter the number:\"))\n",
    "n2 = int(input(\"enter the number:\"))\n",
    "sumof = n1+n2\n",
    "diff=n1-n2\n",
    "print('sum of the {0} and {1} is {2} difference of the {0} and {1}  is {3}'.format(n1,n2,sumof,diff))"
   ]
  },
  {
   "cell_type": "code",
   "execution_count": null,
   "metadata": {},
   "outputs": [],
   "source": [
    "#4.Predict output:\n",
    "s1 ='ab' \n",
    "s2 = 'de'\n",
    "s3 = s1 +s2\n",
    "print(s3)"
   ]
  },
  {
   "cell_type": "code",
   "execution_count": null,
   "metadata": {},
   "outputs": [],
   "source": [
    "#5.Predict output:\n",
    "s1 ='ab' \n",
    "s2 = 'de'\n",
    "s3 = s1 +s2\n",
    "print(s3)"
   ]
  },
  {
   "cell_type": "code",
   "execution_count": null,
   "metadata": {
    "scrolled": true
   },
   "outputs": [],
   "source": [
    "#6.Predict output:\n",
    "s1 ='ab'*4 \n",
    "print(s1)"
   ]
  },
  {
   "cell_type": "code",
   "execution_count": null,
   "metadata": {},
   "outputs": [],
   "source": [
    "#7.Predict output:\n",
    "s1 ='ab\\n'*4 \n",
    "print(s1)"
   ]
  },
  {
   "cell_type": "code",
   "execution_count": null,
   "metadata": {
    "scrolled": true
   },
   "outputs": [],
   "source": [
    "#8.WAP to input a string s and a number n. Print the string n times on the screen, each should appear in a separate line (do not use any kind of loops, use the multiplication operator).\n",
    "s = input(\"enter the string:\")\n",
    "n  = int(input(\"enter the number:\"))\n",
    "print((s + '\\n')*n)\n"
   ]
  },
  {
   "cell_type": "code",
   "execution_count": null,
   "metadata": {},
   "outputs": [],
   "source": [
    "# 9.predict output:\n",
    "res = print('Gaurav')\n",
    "print(res)\n"
   ]
  },
  {
   "cell_type": "code",
   "execution_count": null,
   "metadata": {},
   "outputs": [],
   "source": [
    "str1 = \"Gaurav\"\n",
    "str2 =\"tuteur.py@gmail.com\"\n",
    "str3 = str1 + '\\n' + str2\n",
    "print(type(str3))\n",
    "print(len(str3))"
   ]
  },
  {
   "cell_type": "markdown",
   "metadata": {},
   "source": [
    "# assignment2"
   ]
  },
  {
   "cell_type": "code",
   "execution_count": null,
   "metadata": {},
   "outputs": [],
   "source": [
    "#1.Input temperature in Fahrenheit in print in Celsius.\n",
    " \n",
    "F = int(input(\"Enter the temperature value in Farenheit : \"))\n",
    "C = ((F-32)*5)/9\n",
    "print(\"The temperature in celcius : \", C)\n"
   ]
  },
  {
   "cell_type": "code",
   "execution_count": null,
   "metadata": {},
   "outputs": [],
   "source": [
    "#2.Write a program to input a number and print its square and cube.   \n",
    "n = int(input(\"enter the number:\"))\n",
    "squre =  n**2\n",
    "cube  =  n**3\n",
    "print('squre of the {0} is {1} and cube of the {0} is {2}'.format(n,squre,cube))\n",
    "  "
   ]
  },
  {
   "cell_type": "code",
   "execution_count": null,
   "metadata": {},
   "outputs": [],
   "source": [
    "#WAP to input a number n and a number m and print the result of following\n",
    "#  n2 + m2\n",
    "    n = int(input(\"enter the number:\"))\n",
    "    m = int(input(\"enter the number:\")) \n",
    "    res = n**2 + m**2\n",
    "    print(res)"
   ]
  },
  {
   "cell_type": "code",
   "execution_count": null,
   "metadata": {},
   "outputs": [],
   "source": [
    "#WAP to input a numbers M and N and print result of MN. (use both ** and pow)\n",
    "import math as m\n",
    "M = int(input(\"enter the number:\"))\n",
    "N = int(input(\"enter the number:\")) \n",
    "res1 = M**N\n",
    "res2 = m.pow(M,N)\n",
    "print(res1,res2)"
   ]
  },
  {
   "cell_type": "code",
   "execution_count": null,
   "metadata": {},
   "outputs": [],
   "source": [
    "#5. Write a simple interest calculator.\n",
    "P = int(input(\"Enter the Principle Amount : \"))\n",
    "T = int(input(\"Enter the Time duration : \"))\n",
    "R = int(input(\"Enter the rate of interest\"))\n",
    "Simple_intrest = (P*T*R)/100\n",
    "print(\"The required simple interest is \", Simple_intrest)\n"
   ]
  },
  {
   "cell_type": "code",
   "execution_count": null,
   "metadata": {},
   "outputs": [],
   "source": [
    "#Input Principal, Rate, Time and print Compound Interest and Amount.\n",
    "P = int(input(\"Enter the Principle amount : \"))\n",
    "T = int(input(\"Enter the duration of time in years : \"))\n",
    "R = int(input(\"Enter the rate of interest : \"))\n",
    "x = (1+(R/12))**(12*T)\n",
    "A = P*x\n",
    "print(\"The required amount is : \", A)\n",
    "Compound_I = (P*x)-P\n",
    "print(\"The required Compound interest is : \", Compound_I)\n"
   ]
  },
  {
   "cell_type": "code",
   "execution_count": null,
   "metadata": {},
   "outputs": [],
   "source": [
    "#WAP to print sum of first n natural numbers. (n needs to be taken as input).\n",
    "n = int(input(\"Enter the value: \"))\n",
    "sum = 0\n",
    "for i in range(1,n+1):\n",
    "    sum = sum + i\n",
    "print('sum of first {0} is {1}'.format(n,sum))    "
   ]
  },
  {
   "cell_type": "code",
   "execution_count": null,
   "metadata": {},
   "outputs": [],
   "source": [
    "#WAP to input 2 numbers and swap them. (write using both normal logic with temp variable and\n",
    "#also the pythonic way).\n",
    "a = input(\"Enter the first number : \")\n",
    "b = input(\"Enter the second number : \")\n",
    "print(\"before the swapping values of a and b\",a,b)\n",
    "c = a\n",
    "a = b\n",
    "b = c\n",
    "print(\"after the swapping values of a and b\",a,b)\n",
    "a,b = b,a\n",
    "print(\"after the swapping values of a and b\",a,b)\n"
   ]
  },
  {
   "cell_type": "code",
   "execution_count": null,
   "metadata": {
    "scrolled": true
   },
   "outputs": [],
   "source": [
    "#Input a single character and print its ascii values.\n",
    "x = input(\"Enter a character : \")\n",
    "print('The ASCII value of the given char' + x + \"is : \", ord(x))\n"
   ]
  },
  {
   "cell_type": "code",
   "execution_count": null,
   "metadata": {
    "scrolled": true
   },
   "outputs": [],
   "source": [
    "#WAP that takes area of a circle and gives back the radius and circumference.\n",
    "import math\n",
    "def circle_cum(n):\n",
    "    r= math.sqrt(int(a)/math.pi)\n",
    "    circ = 2 * math.pi * r\n",
    "    print(\"The required cirumference is : \", circ)\n",
    "\n",
    "\n",
    "a = input(\"Enter the area of circle\")\n",
    "circle_cum(a)"
   ]
  },
  {
   "cell_type": "code",
   "execution_count": null,
   "metadata": {
    "scrolled": true
   },
   "outputs": [],
   "source": [
    "#We need to input marks in 5 subjects out of 100 and print percentage.\n",
    "total = 0\n",
    "for i  in range(5):\n",
    "    marks = int(input(\"enter the marks:\"))\n",
    "    print('{0} subject marks is {1}'.format(i,marks)) \n",
    "    total += marks\n",
    "print('total marks of the given student',total)    \n",
    "    \n",
    "    \n",
    "    \n",
    "\n"
   ]
  },
  {
   "cell_type": "code",
   "execution_count": null,
   "metadata": {},
   "outputs": [],
   "source": [
    "#WAP to print ascii value of all white-space characters present in python.\n",
    "\n",
    "list1 = ['\\n',':',';','\\t','\\b']\n",
    "for i in range(len(list1)):\n",
    "    res = ord(list1[i])\n",
    "    print('ascii value {0} is {1}'.format(list1[i],res))"
   ]
  },
  {
   "cell_type": "markdown",
   "metadata": {},
   "source": [
    "# assignment3"
   ]
  },
  {
   "cell_type": "code",
   "execution_count": null,
   "metadata": {},
   "outputs": [],
   "source": [
    "#1.Guess output of each slice: \n",
    "s='Python is Object Oriented' \n",
    "print(s[-1]) \n",
    "print(s[::-1]) \n",
    "print(s[:-1]) \n",
    "print(s[1:1]) \n",
    "print(s[4:10]) \n",
    "\n",
    "    "
   ]
  },
  {
   "cell_type": "code",
   "execution_count": null,
   "metadata": {},
   "outputs": [],
   "source": [
    "#What error do you see for following statements: \n",
    "s= ''\n",
    "print(s[1]) "
   ]
  },
  {
   "cell_type": "code",
   "execution_count": null,
   "metadata": {},
   "outputs": [],
   "source": [
    "S='Gaurav' \n",
    "print(s[1]) "
   ]
  },
  {
   "cell_type": "code",
   "execution_count": null,
   "metadata": {
    "scrolled": true
   },
   "outputs": [],
   "source": [
    "s='a b cd'\n",
    "print(len(s))\n",
    "print(s[::2])\n",
    "print(len(s[::2])) \n"
   ]
  },
  {
   "cell_type": "code",
   "execution_count": null,
   "metadata": {
    "scrolled": true
   },
   "outputs": [],
   "source": [
    "s='a#b#c#d#'\n",
    "print(s.split())\n",
    "print(s.split('#'))\n",
    "l=s.split('#')\n",
    "s='$'.join(l)\n",
    "print(s) "
   ]
  },
  {
   "cell_type": "code",
   "execution_count": null,
   "metadata": {
    "scrolled": true
   },
   "outputs": [],
   "source": [
    "S='Gaurav'\n",
    "S=S[::-2][::-2]\n",
    "print(S) "
   ]
  },
  {
   "cell_type": "code",
   "execution_count": null,
   "metadata": {},
   "outputs": [],
   "source": [
    "\n",
    "print(1>2)\n",
    "\n"
   ]
  },
  {
   "cell_type": "code",
   "execution_count": null,
   "metadata": {},
   "outputs": [],
   "source": [
    "print(4%2, 5%2, 2%5, sep=',')"
   ]
  },
  {
   "cell_type": "code",
   "execution_count": null,
   "metadata": {
    "scrolled": true
   },
   "outputs": [],
   "source": [
    "s='abcba'\n",
    "s.upper()\n",
    "print(s)\n",
    "print(s.count('A'), end = ',')\n",
    "print(s.count('A', 2,4) , end = ',')\n",
    "print(s.count('a', 2,4) , end = ',') "
   ]
  },
  {
   "cell_type": "code",
   "execution_count": null,
   "metadata": {},
   "outputs": [],
   "source": [
    "s = \"  udaykumar  \"\n",
    "print(s.strip())\n"
   ]
  },
  {
   "cell_type": "code",
   "execution_count": null,
   "metadata": {},
   "outputs": [],
   "source": [
    "p = \"\"\"\n",
    "*****************\n",
    "        *\n",
    "        *\n",
    "        *\n",
    "        *\n",
    "        *\n",
    "        *\n",
    "        *\n",
    "        *\n",
    "        *\n",
    "        *\n",
    " \"\"\"\n",
    "print(p)   "
   ]
  },
  {
   "cell_type": "code",
   "execution_count": null,
   "metadata": {},
   "outputs": [],
   "source": [
    "l = \"\"\"\n",
    "\n",
    "     _______________\n",
    "     |              |\n",
    "     O              |\n",
    "    /|\\             |\n",
    "    / \\             |\n",
    "                    |\n",
    "                    |\n",
    "____________________|                    \n",
    "\n",
    "\n",
    "\"\"\"\n",
    "print(l)"
   ]
  },
  {
   "cell_type": "code",
   "execution_count": null,
   "metadata": {},
   "outputs": [],
   "source": [
    "#WAP to input a string and replace all space with new lines (\\n) and print again. \n",
    "s = \"uday kumar gampa\"\n",
    "print(s.replace(' ','\\n'))"
   ]
  },
  {
   "cell_type": "code",
   "execution_count": null,
   "metadata": {},
   "outputs": [],
   "source": [
    "#11. WAP to input complete name(first and last name separated by space) and print first and last\n",
    "     #name separately along with their length in upper case. \n",
    "s  = input(\"enter your name:\")\n",
    "f,l = s.split(' ')\n",
    "firstname = f.upper()\n",
    "lastname  = l.upper()\n",
    "print('first name {0} and its length{1}'.format(firstname,len(firstname)))\n",
    "print('last name {0} and its length{1}'.format(lastname,len(lastname)))"
   ]
  },
  {
   "cell_type": "code",
   "execution_count": null,
   "metadata": {},
   "outputs": [],
   "source": [
    "#WAP to input a string and split it into 2 halves. The string can be of any length \n",
    "def split_into_two_string(a,b):\n",
    "    if (len(s))%2==0:\n",
    "        s1,s2 = s[:h],s[h:]\n",
    "        return s1,s2\n",
    "    else:\n",
    "        n =h+1\n",
    "        s1,s2 =s[:h],s[n:]\n",
    "        return s1, s2\n",
    "    \n"
   ]
  },
  {
   "cell_type": "code",
   "execution_count": null,
   "metadata": {},
   "outputs": [],
   "source": [
    "s = input(\"enter the string:\")\n",
    "h =int(len(s)/2)   \n",
    "split_into_two_string(s,h)"
   ]
  },
  {
   "cell_type": "markdown",
   "metadata": {},
   "source": [
    "# assignment5"
   ]
  },
  {
   "cell_type": "code",
   "execution_count": null,
   "metadata": {},
   "outputs": [],
   "source": [
    "#Convert a Tuple t = (1,2,3,4,5) to a list \n",
    "t =(1,2,3,4,5)\n",
    "print(list(t))"
   ]
  },
  {
   "cell_type": "code",
   "execution_count": null,
   "metadata": {},
   "outputs": [],
   "source": [
    "#WAP to join a list and a tuple:\n",
    "L = [1,3,5,7]\n",
    "T = (8,6,4,2) \n",
    "S =  list(T)\n",
    "L.extend(T)\n",
    "LS = L\n",
    "print(LS)"
   ]
  },
  {
   "cell_type": "code",
   "execution_count": null,
   "metadata": {},
   "outputs": [],
   "source": [
    "#Print the list in reverse order\n",
    "l = ['a', 'd', 'c', 'A', 'C'] \n",
    "l.reverse()\n",
    "print(l)"
   ]
  },
  {
   "cell_type": "code",
   "execution_count": null,
   "metadata": {},
   "outputs": [],
   "source": [
    "# Print Elements at Odd indexes from a list (Do not use loop)\n",
    "l = [10,11,20, 21,30, 31, 40, 41] \n",
    "res = l[1::2]\n",
    "print(res)   "
   ]
  },
  {
   "cell_type": "code",
   "execution_count": null,
   "metadata": {},
   "outputs": [],
   "source": [
    "n_list =[\"Happy\",[2,0,1,5]]\n",
    "print(n_list[0][1])\n",
    "print(n_list[1][3])"
   ]
  },
  {
   "cell_type": "code",
   "execution_count": null,
   "metadata": {},
   "outputs": [],
   "source": [
    "odd =[2,4,6,8]\n",
    "odd[0] =1\n",
    "print(odd)\n",
    "odd[1:4] =[3,5,7]\n",
    "print(odd)"
   ]
  },
  {
   "cell_type": "code",
   "execution_count": null,
   "metadata": {},
   "outputs": [],
   "source": [
    "odd = [1,3,5]\n",
    "odd.append([7,9])\n",
    "print(odd)\n",
    "odd.extend([11,13])\n",
    "print(odd)"
   ]
  },
  {
   "cell_type": "code",
   "execution_count": null,
   "metadata": {},
   "outputs": [],
   "source": [
    "x= 1,2,3; print(type(x))\n",
    "x= (1); print(type(x))\n",
    "x= 1; print(type(x))\n",
    "x= 1, ; print(type(x))"
   ]
  },
  {
   "cell_type": "code",
   "execution_count": null,
   "metadata": {},
   "outputs": [],
   "source": [
    "l = [[1, 2 ,3],\n",
    "     [4,5,6],\n",
    "     [7,8,9]] \n",
    "for i in range(len(l)):\n",
    "    for j in range(len(l[i])):\n",
    "        print('%d' %l[i][j],end =' ')\n",
    "    print()\n"
   ]
  },
  {
   "cell_type": "code",
   "execution_count": null,
   "metadata": {},
   "outputs": [],
   "source": [
    "t1 =tuple('string')\n",
    "t3 = t1 +t2\n",
    "print(t3)"
   ]
  },
  {
   "cell_type": "code",
   "execution_count": null,
   "metadata": {},
   "outputs": [],
   "source": [
    "t =tuple([10,20,30,40,50,60])\n",
    "print(60 in t)\n",
    "print('60' in t)\n",
    "print(int(10 in t))\n",
    "print(int(1 in t))"
   ]
  },
  {
   "cell_type": "code",
   "execution_count": null,
   "metadata": {},
   "outputs": [],
   "source": [
    "t =tuple('string')\n",
    "print(t)\n",
    "print(t[::-1])\n",
    "print(t[::2][::-2])\n"
   ]
  },
  {
   "cell_type": "code",
   "execution_count": null,
   "metadata": {},
   "outputs": [],
   "source": [
    "s1 = input(\"enter the string:\")\n",
    "s2 = s1[::-1]\n",
    "if s1==s2:\n",
    "    print(\"the given string is polindrome\")\n",
    "else: \n",
    "    print(\"the given string is polindrome\")"
   ]
  },
  {
   "cell_type": "code",
   "execution_count": null,
   "metadata": {},
   "outputs": [],
   "source": [
    "l = tuple(range(20,1,-5))\n",
    "print(l)"
   ]
  },
  {
   "cell_type": "code",
   "execution_count": null,
   "metadata": {},
   "outputs": [],
   "source": [
    "s = \"uday\"\n",
    "print(list(s))"
   ]
  },
  {
   "cell_type": "code",
   "execution_count": null,
   "metadata": {},
   "outputs": [],
   "source": [
    "print(type('1 2'.split())) \n",
    "print(type([1,3,2].sort())) \n",
    "print(type('abc'.upper())) \n",
    "print(type(1 in [1,2])) \n",
    " "
   ]
  },
  {
   "cell_type": "markdown",
   "metadata": {},
   "source": [
    "# assignment4"
   ]
  },
  {
   "cell_type": "code",
   "execution_count": null,
   "metadata": {},
   "outputs": [],
   "source": [
    "#1. WAP to input 2 strings and swap the strings \n",
    "s1 =input('enter the string:')\n",
    "s2 =input('enter the string:')\n",
    "s1,s2 = s2,s1\n",
    "print(s1,s2)"
   ]
  },
  {
   "cell_type": "code",
   "execution_count": 1,
   "metadata": {},
   "outputs": [
    {
     "name": "stdout",
     "output_type": "stream",
     "text": [
      "[2, 4, 22, 21]\n",
      "average of 4 random numbers is : 12.25\n"
     ]
    }
   ],
   "source": [
    "#2.WAP to generate 4 random numbers in the range 0-26 and print their average\n",
    "import random\n",
    "a = []\n",
    "for i in range(4):\n",
    "    a.append(random.randrange(0,26))\n",
    "    \n",
    "print(a)\n",
    "average =sum(a)/4\n",
    "print(\"average of 4 random numbers is :\",average)    \n",
    "\n"
   ]
  },
  {
   "cell_type": "code",
   "execution_count": 3,
   "metadata": {},
   "outputs": [
    {
     "name": "stdout",
     "output_type": "stream",
     "text": [
      "B\n"
     ]
    }
   ],
   "source": [
    "#3.WAP to generate and print a random uppercase or lowercase alphabet. Try these:\n",
    "# Create a string containing all alphabets and then select a random alphabet.\n",
    "#Check the module string \n",
    "def alpha():\n",
    "    a = random.randrange(65,90)\n",
    "    print(chr(a))\n",
    "    \n",
    "alpha()    \n"
   ]
  },
  {
   "cell_type": "code",
   "execution_count": 4,
   "metadata": {},
   "outputs": [
    {
     "name": "stdout",
     "output_type": "stream",
     "text": [
      "Enter the Principle amount : 10000\n",
      "Enter the duration of time in years : 12\n",
      "Enter the rate of interest : 2\n",
      "The required simple interest is  2400.0\n"
     ]
    }
   ],
   "source": [
    "#4.WAF get_si() that takes Principle, Rate and Time as arguments and returns the Simple\n",
    "#Interest. \n",
    "def get_si(p,t,r):\n",
    "    Simple_intrest = (p*t*r)/100\n",
    "    print(\"The required simple interest is \", Simple_intrest)\n",
    "    \n",
    "        \n",
    "p = int(input(\"Enter the Principle amount : \"))\n",
    "t = int(input(\"Enter the duration of time in years : \"))\n",
    "r = int(input(\"Enter the rate of interest : \"))\n",
    "get_si(p,t,r)\n",
    "    \n"
   ]
  },
  {
   "cell_type": "code",
   "execution_count": 7,
   "metadata": {},
   "outputs": [
    {
     "name": "stdout",
     "output_type": "stream",
     "text": [
      "1000\n",
      "The required simple interest is  100.0\n"
     ]
    }
   ],
   "source": [
    "#5.WAF get_amount() that takes Principle, Rate and Time as arguments and returns the\n",
    "#Total amount using the get_si() function from above to calculate the SI. Also provide \n",
    "\n",
    "def get_amount(p, t = 1, r = 10):\n",
    "        return(get_si(p, t, r))\n",
    "p = float(input())    \n",
    "get_amount(p) "
   ]
  },
  {
   "cell_type": "code",
   "execution_count": null,
   "metadata": {},
   "outputs": [],
   "source": [
    "#6.WAP get_ci() that takes Principle, Rate and Time as arguments and returns the\n",
    "   #Compound Interest\n",
    "def get_ci(p,t,r):\n",
    "    x = (1+(r/12))**(12*t)\n",
    "    Compound_I = (p*x)-p\n",
    "    print(\"The required Compound interest is : \", Compound_I)\n",
    "    \n",
    "        \n",
    "p = int(input(\"Enter the Principle amount : \"))\n",
    "t = int(input(\"Enter the duration of time in years : \"))\n",
    "r = int(input(\"Enter the rate of interest : \"))\n",
    "get_ci(p,t,r)\n",
    "\n",
    "    \n",
    "    \n",
    "    "
   ]
  },
  {
   "cell_type": "code",
   "execution_count": null,
   "metadata": {},
   "outputs": [],
   "source": [
    "#7. WAP get_q_r() taking 2 numbers as parameters and returns the quotient and\n",
    "    #remainder in the form of a tuple. \n",
    "def get_q_r(a,b):\n",
    "    q = a/b\n",
    "    r = a%b\n",
    "    t  = (q,r)\n",
    "    print(t)\n",
    "    \n",
    "n1 =int(input('enter the base:'))\n",
    "n2 =int(input('enter the height:'))\n",
    "get_q_r(n1,n2)    \n",
    "    "
   ]
  },
  {
   "cell_type": "code",
   "execution_count": null,
   "metadata": {},
   "outputs": [],
   "source": [
    "#8.WAP to find the length of hypotenuse of a right angled triangle, input the height and base\n",
    "import math as m\n",
    "def hypotenuse_length(a,b):\n",
    "    c = a**2 +b**2 \n",
    "    hypotenuse = m.sqrt(c)\n",
    "    print('length of hypotenuse of a right angled triangle',hypotenuse)\n",
    "    \n",
    "n1 =int(input('enter the base:'))\n",
    "n2 =int(input('enter the height:'))\n",
    "hypotenuse_length(n1,n2)\n",
    "\n",
    "\n",
    "\n"
   ]
  },
  {
   "cell_type": "code",
   "execution_count": null,
   "metadata": {},
   "outputs": [],
   "source": [
    "#9.WAP to input number of seconds and print in days, hours, minutes and seconds \n",
    "def time_of(s):\n",
    "    day = s//(24*3600)\n",
    "    s = s%(24*3600)\n",
    "    hour = s //3600\n",
    "    s = s%3600\n",
    "    min = s//60\n",
    "    sec = s%60\n",
    "    print(\"{0}day {1}hour {2}min {3}sec\".format (day,hour,min,sec))\n",
    "    \n",
    "    \n",
    "s =int(input('enter the seconds:'))\n",
    "time_of(s)"
   ]
  },
  {
   "cell_type": "code",
   "execution_count": null,
   "metadata": {},
   "outputs": [],
   "source": [
    "#10.Check your version of python interpreter without opening the interpreter (Which\n",
    " #command needs to be used on the command line)\n",
    "    \n",
    " #                            python -V"
   ]
  },
  {
   "cell_type": "code",
   "execution_count": 1,
   "metadata": {},
   "outputs": [
    {
     "name": "stdout",
     "output_type": "stream",
     "text": [
      "2 -2\n"
     ]
    }
   ],
   "source": [
    "#11. Find output: \n",
    "x =2\n",
    "x *= 3\n",
    "x = x%4\n",
    "y = -x\n",
    "print(x,y)\n"
   ]
  },
  {
   "cell_type": "code",
   "execution_count": 2,
   "metadata": {},
   "outputs": [
    {
     "name": "stdout",
     "output_type": "stream",
     "text": [
      "None\n"
     ]
    }
   ],
   "source": [
    "#12.Find output: \n",
    "def funct():\n",
    "    pass\n",
    "print(funct())"
   ]
  },
  {
   "cell_type": "code",
   "execution_count": 12,
   "metadata": {},
   "outputs": [
    {
     "name": "stdout",
     "output_type": "stream",
     "text": [
      "10\n",
      "20\n",
      "re : 10.0 im : 20.0\n"
     ]
    }
   ],
   "source": [
    "#13. WAP to input the real and imaginary part of a complex number and print it on screen.\n",
    "#output should look like \n",
    "import math\n",
    "x = int(input())\n",
    "y = int(input())\n",
    "z = (complex(x, y))\n",
    "print(\"re :\", z.real, \"im :\", z.imag)\n"
   ]
  },
  {
   "cell_type": "code",
   "execution_count": null,
   "metadata": {},
   "outputs": [],
   "source": [
    "\"\"\"def oper(a,b): \n",
    "    def sum_of(a,b):\n",
    "        x = a+b\n",
    "        return x\n",
    "    result = sum_of(a,b)\n",
    "    return result\n",
    "            \n",
    "oper(1,6) \n",
    "\"\"\"\n",
    "            \n",
    "            \n",
    "\n"
   ]
  },
  {
   "cell_type": "markdown",
   "metadata": {},
   "source": [
    "# assignment 6"
   ]
  },
  {
   "cell_type": "code",
   "execution_count": 15,
   "metadata": {},
   "outputs": [
    {
     "name": "stdout",
     "output_type": "stream",
     "text": [
      "enter the number:5\n",
      "1\n",
      "2\n",
      "3\n",
      "4\n",
      "5\n"
     ]
    }
   ],
   "source": [
    "#1. WAP to print first n natural numbers (input n from user).\n",
    "n = int(input(\"enter the number:\"))\n",
    "for i in range(1,n+1):\n",
    "    print(i)\n",
    "    "
   ]
  },
  {
   "cell_type": "code",
   "execution_count": 16,
   "metadata": {},
   "outputs": [
    {
     "name": "stdout",
     "output_type": "stream",
     "text": [
      "enter the number:5\n",
      "sum of first 5natural numbers  is 15\n"
     ]
    }
   ],
   "source": [
    "#2. WAP to find sum of first n natural numbers \n",
    "n = int(input(\"enter the number:\"))\n",
    "sum = 0\n",
    "for i in range(1,n+1):\n",
    "    sum = sum + i\n",
    "print('sum of first {0}natural numbers  is {1}'.format(n,sum))\n",
    "    \n"
   ]
  },
  {
   "cell_type": "code",
   "execution_count": 22,
   "metadata": {
    "scrolled": true
   },
   "outputs": [
    {
     "name": "stdout",
     "output_type": "stream",
     "text": [
      "enter the number:5\n",
      "5\n",
      "4\n",
      "3\n",
      "2\n",
      "1\n"
     ]
    }
   ],
   "source": [
    "#3.WAP to print first n natural numbers in reverse order.\n",
    "n = int(input(\"enter the number:\"))\n",
    "i = 0\n",
    "while n>i:\n",
    "    print(n)\n",
    "    n -= 1\n",
    "    "
   ]
  },
  {
   "cell_type": "code",
   "execution_count": 26,
   "metadata": {},
   "outputs": [
    {
     "name": "stdout",
     "output_type": "stream",
     "text": [
      "enter the number:5\n",
      "factorial of given number: 120\n"
     ]
    }
   ],
   "source": [
    "#4. WAP to input a number and print its factorial. \n",
    "n = int(input(\"enter the number:\"))\n",
    "f= 1\n",
    "for i in range(1,n+1):\n",
    " f = f*i\n",
    "print(\"factorial of given number:\",f)    \n"
   ]
  },
  {
   "cell_type": "code",
   "execution_count": 28,
   "metadata": {},
   "outputs": [
    {
     "name": "stdout",
     "output_type": "stream",
     "text": [
      "enter the number:5\n",
      "This Fibonacci sequence has 5 elements :\n",
      "0, 1, 1, 2, 3, "
     ]
    }
   ],
   "source": [
    "#5.WAP to print Fibonacci sequence till n.\n",
    "n = int(input(\"enter the number:\"))\n",
    "t1 = 0 \n",
    "t2 = 1\n",
    "i =0\n",
    "if n <= 0:\n",
    "    print(\"Please provide a number greater than zero\")\n",
    "elif n == 1:\n",
    "    print(\"This Fibonacci sequence has {} element\".format(n), \":\")\n",
    "    print(t1)\n",
    "else:\n",
    "   print(\"This Fibonacci sequence has {} elements\".format(n), \":\")\n",
    "   while i< n:\n",
    "        print(t1, end=', ')\n",
    "        t3 = t1 + t2\n",
    "        t1 = t2\n",
    "        t2 = t3\n",
    "        i += 1\n",
    "\n",
    "\n",
    "\n",
    "\n"
   ]
  },
  {
   "cell_type": "code",
   "execution_count": 32,
   "metadata": {},
   "outputs": [
    {
     "name": "stdout",
     "output_type": "stream",
     "text": [
      "Enter a number:512\n",
      "[5, 1, 2]\n"
     ]
    }
   ],
   "source": [
    "#6.WAP to print all digits of a number input from user. \n",
    "n=int(input(\"Enter a number:\"))\n",
    "tot=0\n",
    "a = []\n",
    "while(n>0):\n",
    "    dig=n%10\n",
    "    a.append(dig)\n",
    "    n=n//10\n",
    "    \n",
    "print(a[::-1])"
   ]
  },
  {
   "cell_type": "code",
   "execution_count": 29,
   "metadata": {},
   "outputs": [
    {
     "name": "stdout",
     "output_type": "stream",
     "text": [
      "Enter a number:121\n",
      "The total sum of digits is: 4\n"
     ]
    }
   ],
   "source": [
    "#7.WAP to find sum of all digits of a number.\n",
    "n=int(input(\"Enter a number:\"))\n",
    "tot=0\n",
    "while(n>0):\n",
    "    dig=n%10\n",
    "    tot=tot+dig\n",
    "    n=n//10\n",
    "print(\"The total sum of digits is:\",tot)"
   ]
  },
  {
   "cell_type": "code",
   "execution_count": 53,
   "metadata": {},
   "outputs": [
    {
     "name": "stdout",
     "output_type": "stream",
     "text": [
      "Enter a number:5\n",
      "sum of the given series is  153\n"
     ]
    }
   ],
   "source": [
    "#8.WAP to find sum of following series given n as input from user\n",
    "#1 + 2! + 3! + 4! + 5! + ….n! \n",
    "n=int(input(\"Enter a number:\"))\n",
    "sum = 0\n",
    "for i in range(1,n+1):\n",
    "    f=1\n",
    "    for j in range(1,i+1):\n",
    "        f = f*j\n",
    "        \n",
    "    sum += f\n",
    "\n",
    "\n",
    "print('sum of the given series is ',sum)\n",
    "\n",
    "\n"
   ]
  },
  {
   "cell_type": "code",
   "execution_count": 39,
   "metadata": {},
   "outputs": [
    {
     "name": "stdout",
     "output_type": "stream",
     "text": [
      "Enter a base:2\n",
      "Enter a exponent:10\n",
      "1024\n"
     ]
    }
   ],
   "source": [
    "#9. WAP to input base and exponent and print result without using inbuilt function pow(use for or\n",
    "#while loop).\n",
    "base=int(input(\"Enter a base:\"))\n",
    "exponent=int(input(\"Enter a exponent:\"))\n",
    "i=1\n",
    "res = base\n",
    "if exponent == 0:\n",
    "    print(1) \n",
    "elif exponent == 1:\n",
    "     print(base)\n",
    "else:\n",
    "    while exponent >i:\n",
    "        res = res * base\n",
    "        exponent -= 1    \n",
    "    print(res)    \n",
    "    \n",
    "    \n",
    "    \n",
    "\n",
    "\n",
    "\n",
    "\n",
    "\n"
   ]
  },
  {
   "cell_type": "code",
   "execution_count": 55,
   "metadata": {
    "scrolled": true
   },
   "outputs": [
    {
     "name": "stdout",
     "output_type": "stream",
     "text": [
      "*\n",
      "**\n",
      "***\n",
      "****\n",
      "*****\n"
     ]
    }
   ],
   "source": [
    "#10. Print following patterns: \n",
    "#A\n",
    "\n",
    "for i in range(1,6):\n",
    "   print('*'*i)"
   ]
  },
  {
   "cell_type": "code",
   "execution_count": 61,
   "metadata": {},
   "outputs": [
    {
     "name": "stdout",
     "output_type": "stream",
     "text": [
      "*****\n",
      "****\n",
      "***\n",
      "**\n",
      "*\n"
     ]
    }
   ],
   "source": [
    "#b\n",
    "for i in range(5,0,-1):\n",
    "   print('*'*i)"
   ]
  },
  {
   "cell_type": "code",
   "execution_count": 69,
   "metadata": {
    "scrolled": true
   },
   "outputs": [
    {
     "name": "stdout",
     "output_type": "stream",
     "text": [
      "     *\n",
      "    **\n",
      "   ***\n",
      "  ****\n",
      " *****\n"
     ]
    }
   ],
   "source": [
    "for i in range(5,0,-1):\n",
    "    print(' '*i, end ='')\n",
    "    print('*'*(6-i))\n",
    "    \n",
    "    \n",
    "\n"
   ]
  },
  {
   "cell_type": "code",
   "execution_count": 82,
   "metadata": {},
   "outputs": [
    {
     "name": "stdout",
     "output_type": "stream",
     "text": [
      "                   * \n",
      "                  * * \n",
      "                 * * * \n",
      "                * * * * \n",
      "               * * * * * \n"
     ]
    }
   ],
   "source": [
    "n=20\n",
    "for i in range(1,6):\n",
    "    print(' '*(n-i) + '* '*(i))\n",
    "    \n",
    "    "
   ]
  },
  {
   "cell_type": "code",
   "execution_count": 104,
   "metadata": {},
   "outputs": [
    {
     "name": "stdout",
     "output_type": "stream",
     "text": [
      "1\n",
      "22\n",
      "333\n",
      "4444\n",
      "55555\n"
     ]
    }
   ],
   "source": [
    "#11. Print following number patterns\n",
    "#A\n",
    "for i in range(1,6):\n",
    "    for j in range(i):\n",
    "        print(i,end ='')\n",
    "    print('')\n",
    "    \n",
    "        \n",
    "   \n",
    "    \n"
   ]
  },
  {
   "cell_type": "code",
   "execution_count": 120,
   "metadata": {},
   "outputs": [
    {
     "name": "stdout",
     "output_type": "stream",
     "text": [
      "1\n",
      "12\n",
      "123\n",
      "1234\n",
      "12345\n"
     ]
    }
   ],
   "source": [
    "for i in range(1,6):\n",
    "    for j in range(1,i+1):\n",
    "        print(j,end ='')\n",
    "    print('')"
   ]
  },
  {
   "cell_type": "code",
   "execution_count": 127,
   "metadata": {},
   "outputs": [
    {
     "name": "stdout",
     "output_type": "stream",
     "text": [
      "5\n",
      "44\n",
      "333\n",
      "2222\n",
      "11111\n"
     ]
    }
   ],
   "source": [
    "for i in range(5,0,-1):\n",
    "    for j in range((6-i)):\n",
    "        print(i,end ='')\n",
    "    print('')"
   ]
  },
  {
   "cell_type": "code",
   "execution_count": 153,
   "metadata": {},
   "outputs": [
    {
     "name": "stdout",
     "output_type": "stream",
     "text": [
      "     1\n",
      "    22\n",
      "   333\n",
      "  4444\n",
      " 55555\n"
     ]
    }
   ],
   "source": [
    "for i in range(1,6):\n",
    "    g =  str(i)\n",
    "    print(' '*(6-i) + g*i)\n",
    "    \n",
    "    \n",
    " "
   ]
  },
  {
   "cell_type": "code",
   "execution_count": 172,
   "metadata": {},
   "outputs": [
    {
     "name": "stdout",
     "output_type": "stream",
     "text": [
      "A\n",
      "AB\n",
      "ABC\n",
      "ABCD\n",
      "ABCDE\n"
     ]
    }
   ],
   "source": [
    "for i in range(1, 6):\n",
    "    for j in range(65, 65+i):\n",
    "        a = chr(j)\n",
    "        print (a,end='')\n",
    "    print('')"
   ]
  },
  {
   "cell_type": "code",
   "execution_count": 156,
   "metadata": {},
   "outputs": [
    {
     "name": "stdout",
     "output_type": "stream",
     "text": [
      "A \n",
      "BB \n",
      "CCC \n",
      "DDDD \n",
      "EEEEE \n"
     ]
    }
   ],
   "source": [
    "\n",
    "lastNumber = 5\n",
    "asciiNumber = 65\n",
    "for i in range(0, lastNumber):\n",
    "    for j in range(0, i+1):\n",
    "        character  = chr(asciiNumber)\n",
    "        print(character, end='')\n",
    "    asciiNumber+=1\n",
    "    print(\" \")"
   ]
  },
  {
   "cell_type": "code",
   "execution_count": 157,
   "metadata": {},
   "outputs": [
    {
     "name": "stdout",
     "output_type": "stream",
     "text": [
      "Print Alphabets and Letters pattern in python \n",
      "A \n",
      "BC \n",
      "DEF \n",
      "GHIJ \n",
      "KLMNO \n"
     ]
    }
   ],
   "source": [
    "print(\"Print Alphabets and Letters pattern in python \")\n",
    "lastNumber = 5\n",
    "asciiNumber = 65\n",
    "for i in range(0, lastNumber):\n",
    "    for j in range(0, i+1):\n",
    "        character  = chr(asciiNumber)\n",
    "        print(character, end='')\n",
    "        asciiNumber+=1\n",
    "    print(\" \")"
   ]
  },
  {
   "cell_type": "code",
   "execution_count": 87,
   "metadata": {},
   "outputs": [
    {
     "name": "stdout",
     "output_type": "stream",
     "text": [
      "                   \n",
      "A                  \n",
      "AB                 \n",
      "ABC                \n",
      "ABCD               \n",
      "ABCDE"
     ]
    }
   ],
   "source": [
    "n=20\n",
    "for i in range(1,6):\n",
    "    print(' '*(n-i))\n",
    "    for j in range(1,i+1):    \n",
    "        print(chr(64+j),end='') \n",
    "    \n",
    "\n",
    "    #for i in range(1,6):\n",
    "        #for j in range(1,4):\n",
    "            #print(\"\") \n",
    "        #for k in range(1,i+1):\n",
    "         #   print(chr(64+k),end ='')\n",
    "        #m =i-1\n",
    "        #while m >=1:\n",
    "           # print(chr(64+m),end ='')\n",
    "           # m-=1\n",
    "        \n",
    "       \n",
    "        \n",
    "        "
   ]
  },
  {
   "cell_type": "markdown",
   "metadata": {},
   "source": [
    "# assignment_ifelse "
   ]
  },
  {
   "cell_type": "code",
   "execution_count": 2,
   "metadata": {},
   "outputs": [
    {
     "name": "stdout",
     "output_type": "stream",
     "text": [
      "enter the number7\n",
      "enter the number2\n",
      "7 is  not divisible by the 2\n"
     ]
    }
   ],
   "source": [
    "#1.WAP to input 2 numbers and check whether the first is divisible by the second and print true or\n",
    "#false depending on the divisibility. \n",
    "n1 = int(input(\"enter the number\"))\n",
    "n2 = int(input(\"enter the number\"))\n",
    "if n1%n2 == 0:\n",
    "    print('{0} is divisible by the {1}'.format(n1,n2))\n",
    "else:\n",
    "    print('{0} is  not divisible by the {1}'.format(n1,n2))"
   ]
  },
  {
   "cell_type": "code",
   "execution_count": 2,
   "metadata": {},
   "outputs": [
    {
     "name": "stdout",
     "output_type": "stream",
     "text": [
      "enter the numberuday\n",
      "YADU\n",
      "The given string is not a palindrome\n"
     ]
    }
   ],
   "source": [
    "#2. In the palindrome example, make the code case insensitive.\n",
    "# i.e. Naman should also be treated as a palindrome (HINT: first convert to either upper or\n",
    "#plower case). \n",
    "s = input(\"enter the string\")\n",
    "s = s.upper()\n",
    "p = s[::-1]\n",
    "print(p)\n",
    "if s ==p:\n",
    "    print(\"The given string is palindrome\")\n",
    "else:\n",
    "    print(\"The given string is not a palindrome\")\n",
    "\n"
   ]
  },
  {
   "cell_type": "code",
   "execution_count": 29,
   "metadata": {},
   "outputs": [
    {
     "name": "stdout",
     "output_type": "stream",
     "text": [
      "enter the number3\n",
      "enter the number6\n",
      "enter the number7\n",
      "the triangle is scalene\n"
     ]
    }
   ],
   "source": [
    "#3.WAP to input the sides of a triangle and print whether equilateral(all sides equal), isosceles (2\n",
    "#sides equal), or scalene (no sides equal).\n",
    "a = int(input(\"enter the number\"))\n",
    "b = int(input(\"enter the number\"))\n",
    "c = int(input(\"enter the number\"))\n",
    "if a== b and a==c and b==c:\n",
    "    print('the triangle is equilateral')\n",
    "elif (a== b and b!=c) or (b== c and a!=c ) or (a== c and b!=c ):\n",
    "    print('the triangle is isosceles')\n",
    "else:\n",
    "    print('the triangle is scalene')\n",
    "    \n",
    "\n"
   ]
  },
  {
   "cell_type": "code",
   "execution_count": 7,
   "metadata": {},
   "outputs": [
    {
     "name": "stdout",
     "output_type": "stream",
     "text": [
      "enter the number6\n",
      "given number is even number\n"
     ]
    }
   ],
   "source": [
    "#4.WAP to input a number and print if it is even or odd. \n",
    "n = int(input(\"enter the number\"))\n",
    "if n%2 == 0:\n",
    "    print('given number is even number')\n",
    "else:\n",
    "    print('given number is odd number')"
   ]
  },
  {
   "cell_type": "code",
   "execution_count": 13,
   "metadata": {},
   "outputs": [
    {
     "name": "stdout",
     "output_type": "stream",
     "text": [
      "enter the age:51\n",
      "Senior Citizen\n"
     ]
    }
   ],
   "source": [
    "#5.WAP to input age and print the respective text\n",
    "#depending on the age ranges as present in the table. \n",
    "\n",
    "a = int(input(\"enter the age:\"))\n",
    "if a>=0 and a<=12:\n",
    "    print('child')\n",
    "elif a>=13 and a<=17:\n",
    "    print('Teen')\n",
    "elif a>=18 and a<=50:\n",
    "    print('adult')\n",
    "elif a>=51 and a<=100:\n",
    "    print('Senior Citizen')\n",
    "else:\n",
    "    print('Contratulations')\n"
   ]
  },
  {
   "cell_type": "code",
   "execution_count": 24,
   "metadata": {},
   "outputs": [
    {
     "name": "stdout",
     "output_type": "stream",
     "text": [
      "enter the number:2200\n",
      "2200 is  not a leap year\n"
     ]
    }
   ],
   "source": [
    "#6.WAP to input year (check if user enters valid year. Should be 4-digit number and should not be\n",
    "#negative) and print whether leap year or not. (If really interested in why you also have to check\n",
    "#the divisibility by 400 just google the exact time it takes for the earth to revolve around the sub) \n",
    "n = int(input(\"enter the number:\"))\n",
    "if n >=1000 and n<=9999:\n",
    "    if n%400 == 0 and n%4 == 0:\n",
    "        print('{0} is a leap year'.format(n))\n",
    "    else:\n",
    "        print('{0} is  not a leap year'.format(n))\n",
    "\n",
    "\n",
    "\n",
    "\n"
   ]
  },
  {
   "cell_type": "code",
   "execution_count": 16,
   "metadata": {},
   "outputs": [
    {
     "name": "stdout",
     "output_type": "stream",
     "text": [
      "enter the number:kumar\n",
      "KUMAR\n"
     ]
    }
   ],
   "source": [
    "#7.WAP to input a string and convert it to Upper Case if number of characters is odd and convert to\n",
    "#lower case otherwise.\n",
    "n = input(\"enter the string:\")\n",
    "s = len(n)\n",
    "if s%2 == 0:\n",
    "    print(n.lower())\n",
    "else:\n",
    "    print(n.upper())\n",
    "\n"
   ]
  },
  {
   "cell_type": "code",
   "execution_count": 31,
   "metadata": {},
   "outputs": [
    {
     "name": "stdout",
     "output_type": "stream",
     "text": [
      "enter the string:veg birayani\n",
      "veg\n"
     ]
    }
   ],
   "source": [
    "#8. WAP to input a string and print Veg if the string doesn’t contain the word egg. Otherwise print\n",
    "#Non-Veg. As usual eggs can be both big and small. \n",
    "str1 = input(\"enter the string:\")\n",
    "str1  = str1.upper()\n",
    "substring = 'EGG'\n",
    "n = str1.find(substring,0,len(str1))\n",
    "if n == -1:\n",
    "    print('veg')\n",
    "else:\n",
    "    print('non veg')\n"
   ]
  },
  {
   "cell_type": "code",
   "execution_count": 32,
   "metadata": {},
   "outputs": [
    {
     "name": "stdout",
     "output_type": "stream",
     "text": [
      "True\n"
     ]
    }
   ],
   "source": [
    "#9.Give output of:\n",
    "#a)\n",
    "if not 1:\n",
    "    print(\"False\")\n",
    "else:\n",
    "    print(\"True\")\n",
    "\n",
    "\n",
    "\n"
   ]
  },
  {
   "cell_type": "code",
   "execution_count": 33,
   "metadata": {},
   "outputs": [
    {
     "name": "stdout",
     "output_type": "stream",
     "text": [
      "False\n"
     ]
    }
   ],
   "source": [
    "#b)\n",
    "if  1:\n",
    "    print(\"False\")\n",
    "else:\n",
    "    print(\"True\")\n",
    "\n"
   ]
  },
  {
   "cell_type": "code",
   "execution_count": 34,
   "metadata": {},
   "outputs": [
    {
     "name": "stdout",
     "output_type": "stream",
     "text": [
      "weird !!\n"
     ]
    }
   ],
   "source": [
    "#c)\n",
    "if  'a'>'A':\n",
    "    print(\"weird !!\")\n",
    "else:\n",
    "    print(\"Makes Sence\")\n"
   ]
  },
  {
   "cell_type": "code",
   "execution_count": 35,
   "metadata": {},
   "outputs": [
    {
     "name": "stdout",
     "output_type": "stream",
     "text": [
      "[4, 3, 2, 1]\n"
     ]
    }
   ],
   "source": [
    "#d)\n",
    "a= [1,2,3,4]\n",
    "if  1 >1:\n",
    "    a= a[::-1]\n",
    "else:\n",
    "    a= a[-1::-1]\n",
    "    \n",
    "print(a)\n"
   ]
  },
  {
   "cell_type": "code",
   "execution_count": 19,
   "metadata": {
    "scrolled": true
   },
   "outputs": [
    {
     "name": "stdout",
     "output_type": "stream",
     "text": [
      "no of subjects:5\n",
      "enter the marks:50\n",
      "enter the marks:50\n",
      "enter the marks:50\n",
      "enter the marks:50\n",
      "enter the marks:50\n",
      "[50, 50, 50, 50, 50]\n",
      "Grade-F\n"
     ]
    }
   ],
   "source": [
    "#10. WAP to input marks in 5 subjects and print the grade as per following logic:\n",
    "#% between 90-100 Grade-A\n",
    "#% between 80 - 89 Grade-B\n",
    "#% between 60 - 79 Grade-C\n",
    "#% < 60 Grade-F \n",
    "\n",
    "\n",
    "def mark_s(a,n):\n",
    "    s =sum(a)\n",
    "    p = (s/500)*100\n",
    "    if p >=90 and p <=100:\n",
    "        print(\"Grade -A\")\n",
    "    elif p >=80 and p <=89:\n",
    "        print(\"Grade -B\") \n",
    "    elif p >=60 and p <=79:\n",
    "        print(\"Grade -C\")\n",
    "    else:\n",
    "        print('Grade-F') \n",
    "        \n",
    "n = int(input(\"no of subjects:\"))        \n",
    "for i in range(n):\n",
    "    a[i] = int(input(\"enter the marks:\"))\n",
    "print(a)\n",
    "mark_s(a,n)\n",
    "    "
   ]
  },
  {
   "cell_type": "code",
   "execution_count": 24,
   "metadata": {},
   "outputs": [
    {
     "name": "stdout",
     "output_type": "stream",
     "text": [
      "enter the age:61\n",
      "enter the salary:500000\n",
      "tax rate 15000.0\n"
     ]
    }
   ],
   "source": [
    "#11.WAP to input age and salary and calculate Tax as per tax rates if following table: \n",
    "#0-2,50,000 0 0\n",
    "#2,50,001-5,00,000 5% 3%\n",
    "#5,00,001-10,00,000 10% 8%\n",
    "#Salary>10,00,001 15% 12% \n",
    "def tax(age,sal):\n",
    "    if age < 60:\n",
    "        if sal >= 0 and sal <= 250000:\n",
    "            tax = 0\n",
    "            print(\"tax rate\",tax)\n",
    "        elif sal >= 250001 and sal <= 500000:\n",
    "            tax = (5/100)*sal\n",
    "            print(\"tax rate\",tax)\n",
    "        elif sal >= 500001 and sal <= 1000000:\n",
    "            tax = (10/100)*sal\n",
    "            print(\"tax rate\",tax)\n",
    "        else:\n",
    "            tax = (15/100)*sal\n",
    "            print(\"tax rate\",tax)\n",
    "    else:\n",
    "        if sal >= 0 and sal <= 250000:\n",
    "            tax = 0\n",
    "            print(\"tax rate\",tax)\n",
    "        elif sal >= 250001 and sal <= 500000:\n",
    "            tax = (3/100)*sal\n",
    "            print(\"tax rate\",tax)\n",
    "        elif sal >= 500001 and sal <= 1000000:\n",
    "            tax = (8/100)*sal\n",
    "            print(\"tax rate\",tax)\n",
    "        else:\n",
    "            tax = (12/100)*sal\n",
    "            print(\"tax rate\",tax)\n",
    "        \n",
    "            \n",
    "age = int(input(\"enter the age:\")) \n",
    "sal = int(input(\"enter the salary:\")) \n",
    "tax(age,sal)\n",
    "\n",
    "\n",
    "\n",
    "\n",
    "\n",
    "\n"
   ]
  },
  {
   "cell_type": "code",
   "execution_count": 30,
   "metadata": {},
   "outputs": [
    {
     "name": "stdout",
     "output_type": "stream",
     "text": [
      "10\n",
      "10\n",
      "10\n",
      "OMG\n"
     ]
    }
   ],
   "source": [
    "#12.Try each of the below statements separately (remember difference between statement and\n",
    "#expression) on the python interpreter and guess the output before trying: \n",
    "print(20 if not 1== 1 else 10)\n",
    "print(30 if not 1== 1 else 20  if 'a'< 'A' else 10)\n",
    "print(40 if not 1== 1 else 30  if 'a'< 'A' else 20 if '' else 10 )\n",
    "print('No' if not 1== 1 else ( 'No' if 'a'< 'A' else ('OMG' if 'Oh !!' else 'No' )))\n",
    "\n",
    "\n"
   ]
  },
  {
   "cell_type": "code",
   "execution_count": 2,
   "metadata": {},
   "outputs": [
    {
     "name": "stdout",
     "output_type": "stream",
     "text": [
      "enter the first person weight:68\n",
      "enter the second person height:165\n",
      "the person is underweight\n"
     ]
    }
   ],
   "source": [
    "#13.WAF: bmi() that takes the weight in kg and height in cm of a person, calculates and returns the\n",
    "#BMI.\n",
    "#Write code that calls this function after taking height and weight as inputs and then prints\n",
    "#underweight, normal, overweight or obese depending on the value of BMI. \n",
    "def BMI(w,h):\n",
    "    bmi = float((w/(h)**2)*703)\n",
    "    if bmi < 18.5:\n",
    "        print('the person is underweight')\n",
    "    elif bmi >=18.5 and bmi<=25:\n",
    "        print('the person is normal')\n",
    "    elif bmi > 25 and bmi<=30:\n",
    "        print('the person is overweight') \n",
    "    else:\n",
    "        print('the person is obese') \n",
    "        \n",
    "weight  = float(input(\"enter the first person weight:\"))\n",
    "height = int(input(\"enter the second person height:\"))\n",
    "BMI(weight,height)\n",
    "        "
   ]
  },
  {
   "cell_type": "code",
   "execution_count": 29,
   "metadata": {},
   "outputs": [
    {
     "name": "stdout",
     "output_type": "stream",
     "text": [
      "enter the first person age:50\n",
      "enter the second person age:40\n",
      "enter the third person age:25\n",
      "the youngest person is third_person 25\n",
      "the oldest person is first_person 50\n"
     ]
    }
   ],
   "source": [
    "#14.Take input of age of 3 people by user and determine oldest and youngest among them.\n",
    "first_person  = int(input(\"enter the first person age:\"))\n",
    "second_person = int(input(\"enter the second person age:\"))\n",
    "third_person  = int(input(\"enter the third person age:\"))\n",
    "if first_person < second_person and first_person < third_person:\n",
    "    print(\"the youngest person is first_person\",first_person)\n",
    "    if second_person < third_person:\n",
    "        print(\"the oldest person is third_person\",third_person)\n",
    "    else:\n",
    "        print(\"the oldest person is second_person\",second_person)   \n",
    "elif second_person < first_person and second_person < third_person:  \n",
    "    print(\"the youngest person is second_person\",second_person)\n",
    "    if first_person < third_person:\n",
    "        print(\"the oldest person is third_person\",third_person)\n",
    "    else:\n",
    "        print(\"the oldest person is first_person\",first_person)\n",
    "else:  \n",
    "    print(\"the youngest person is third_person\",third_person)\n",
    "    if first_person < second_person:\n",
    "        print(\"the oldest person is second_person\",second_person)\n",
    "    else:\n",
    "        print(\"the oldest person is first_person\",first_person)\n",
    "                \n",
    "        \n",
    "        \n",
    "        \n",
    "        "
   ]
  },
  {
   "cell_type": "code",
   "execution_count": 26,
   "metadata": {},
   "outputs": [
    {
     "name": "stdout",
     "output_type": "stream",
     "text": [
      "enter the number:5\n",
      "given number is not divisible by both 5 and 7\n"
     ]
    }
   ],
   "source": [
    "#15. WAP to input a number and check if number is divisible by both 5 and 7. \n",
    "n  = int(input(\"enter the number:\"))\n",
    "if n%5 ==0 and n%7 == 0:\n",
    "    print(\"given number divisible by both 5 and 7\")\n",
    "else:\n",
    "    print(\"given number is not divisible by both 5 and 7\")"
   ]
  },
  {
   "cell_type": "markdown",
   "metadata": {},
   "source": [
    "# AssignmentPython6.1Loops List, If-else"
   ]
  },
  {
   "cell_type": "code",
   "execution_count": 4,
   "metadata": {},
   "outputs": [
    {
     "name": "stdout",
     "output_type": "stream",
     "text": [
      "enter the stringuday\n",
      "u\n",
      "d\n",
      "a\n",
      "y\n"
     ]
    }
   ],
   "source": [
    "#1 WAP to input a string and print individual characters in the string using for loop. \n",
    "s = input(\"enter the string\")\n",
    "for i in range(len(s)):\n",
    "    print(s[i])"
   ]
  },
  {
   "cell_type": "code",
   "execution_count": 6,
   "metadata": {},
   "outputs": [
    {
     "name": "stdout",
     "output_type": "stream",
     "text": [
      "enter the stringuday\n",
      "u ASCII value is 117\n",
      "d ASCII value is 100\n",
      "a ASCII value is 97\n",
      "y ASCII value is 121\n"
     ]
    }
   ],
   "source": [
    "# 2.WAP to input a string and print the ASCII value of each character in the string. \n",
    "s = input(\"enter the string\")\n",
    "for i in range(len(s)):\n",
    "    print('{0} ASCII value is {1}'.format(s[i],ord(s[i])))"
   ]
  },
  {
   "cell_type": "code",
   "execution_count": 4,
   "metadata": {},
   "outputs": [
    {
     "name": "stdout",
     "output_type": "stream",
     "text": [
      "size of the list:3\n",
      "enter the marks:1\n",
      "enter the marks:2\n",
      "enter the marks:3\n",
      "[1, 2, 3]\n"
     ]
    },
    {
     "data": {
      "text/plain": [
       "4"
      ]
     },
     "execution_count": 4,
     "metadata": {},
     "output_type": "execute_result"
    }
   ],
   "source": [
    "#3.Write a function that takes a list of numbers from user as argument and returns the sum of only\n",
    "#odd numbers (Use only for loop. No need to use if statement). \n",
    "def sum_of_odd(a):\n",
    "     return sum((i*(i%2) for i in a), 0)\n",
    "    \n",
    "n = int(input(\"size of the list:\"))\n",
    "a =[]\n",
    "for i in range(n):\n",
    "    i = int(input(\"enter the marks:\"))\n",
    "    a.append(i)\n",
    "print(a)\n",
    "sum_of_odd(a)\n",
    "\n"
   ]
  },
  {
   "cell_type": "code",
   "execution_count": 6,
   "metadata": {},
   "outputs": [
    {
     "name": "stdout",
     "output_type": "stream",
     "text": [
      "enter the number:55\n",
      "(55,)\n",
      "(1, 2, 3, 5, 55)\n",
      "4\n"
     ]
    }
   ],
   "source": [
    "#4. WAP to input a list of numbers and store in a tuple. Now input another number and print the\n",
    "#index of this number in the tuple. [Use index function] \n",
    "list = [1,2,3,5]\n",
    "t = tuple(list)\n",
    "e = [int(input(\"enter the number:\"))]\n",
    "new = tuple(e)\n",
    "t1 = t + new\n",
    "print(new)\n",
    "print(t1)\n",
    "print(t1.index(e))"
   ]
  },
  {
   "cell_type": "code",
   "execution_count": 21,
   "metadata": {},
   "outputs": [
    {
     "name": "stdout",
     "output_type": "stream",
     "text": [
      "[23, 9, 15, 2, 4, 24, 24, 7, 22, 15]\n",
      "sum of the given numbers: 145\n",
      "average of the given numbers 14.5\n",
      "[23, 15, 4, 24, 22]\n"
     ]
    }
   ],
   "source": [
    "#5.Create a list of 10 random numbers and then print the list, sum of all numbers and average. Use\n",
    "#a for loop. Also print elements at only even indexes in the list.\n",
    "import random\n",
    "a = []\n",
    "for i in range(10):\n",
    "    a.append(random.randrange(0,26))\n",
    "print(a)\n",
    "s = sum(a) \n",
    "average = s/10\n",
    "print('sum of the given numbers:',s)\n",
    "print('average of the given numbers',average)\n",
    "e = a[0:10:2]\n",
    "print(e)\n",
    "\n"
   ]
  },
  {
   "cell_type": "code",
   "execution_count": 22,
   "metadata": {},
   "outputs": [
    {
     "name": "stdout",
     "output_type": "stream",
     "text": [
      "enter the numbers10\n",
      "enter the numbers10\n",
      "enter the numbers10\n",
      "enter the numbers10\n",
      "enter the numbers10\n",
      "enter the numbers10\n",
      "enter the numbers10\n",
      "enter the numbers10\n",
      "enter the numbers10\n",
      "enter the numbers10\n",
      "sum of the given list elements 100\n"
     ]
    }
   ],
   "source": [
    "#6.WAP to input 10 numbers repeatedly (using range based for loop) and store them in a list. Print\n",
    "#the list and sum of numbers in the list. \n",
    "a = []\n",
    "for i in range(10):\n",
    "    i =int(input('enter the numbers'))\n",
    "    a.append(i)\n",
    "print('sum of the given list elements',sum(a))"
   ]
  },
  {
   "cell_type": "code",
   "execution_count": 29,
   "metadata": {},
   "outputs": [
    {
     "name": "stdout",
     "output_type": "stream",
     "text": [
      "enter the number:8\n",
      "8 X 1= 8\n",
      "8 X 2= 16\n",
      "8 X 3= 24\n",
      "8 X 4= 32\n",
      "8 X 5= 40\n",
      "8 X 6= 48\n",
      "8 X 7= 56\n",
      "8 X 8= 64\n",
      "8 X 9= 72\n",
      "8 X 10= 80\n"
     ]
    }
   ],
   "source": [
    "#7. WAP to input a number and print its table. Ex: if user enters the number as 7, output should b\n",
    "\n",
    "n =int(input('enter the number:'))\n",
    "for i in range(1,11):\n",
    "    m = n*i\n",
    "    print('{0} X {1}= {2}'.format(n,i,m))\n",
    "\n",
    "\n",
    "\n",
    "\n",
    "\n",
    "\n"
   ]
  },
  {
   "cell_type": "code",
   "execution_count": 35,
   "metadata": {},
   "outputs": [
    {
     "name": "stdout",
     "output_type": "stream",
     "text": [
      "enter the string:uday\n",
      "total number of spaces in a string 0\n"
     ]
    }
   ],
   "source": [
    "#8. WAP to print total number of spaces in a string (Use for loop to iterate over the string. Don’t use\n",
    "#count function).\n",
    "str1 = input(\"enter the string:\")\n",
    "count = 0\n",
    "for i in range(len(str1)):\n",
    "    if str1[i] == ' ':\n",
    "        count+= 1\n",
    "print('total number of spaces in a string',count)        \n",
    "\n",
    "\n",
    "\n",
    "\n",
    "\n",
    "\n"
   ]
  },
  {
   "cell_type": "code",
   "execution_count": 1,
   "metadata": {},
   "outputs": [
    {
     "name": "stdout",
     "output_type": "stream",
     "text": [
      "enter the string:uuuu\n",
      "total number of vowels in a string: 4\n"
     ]
    }
   ],
   "source": [
    "#9.WAP to input a string and count number of vowels in the string. [Note: it should work for both\n",
    "#capital and small alphabets] \n",
    "str1 = input(\"enter the string:\")\n",
    "count = 0\n",
    "l = ['a','e','i','o','u','A','E','I','O','U']\n",
    "for i in range(len(str1)):\n",
    "    if str1[i] in l:\n",
    "        count+= 1\n",
    "print('total number of vowels in a string:',count)   \n"
   ]
  },
  {
   "cell_type": "code",
   "execution_count": 2,
   "metadata": {},
   "outputs": [
    {
     "name": "stdout",
     "output_type": "stream",
     "text": [
      "enter the string:uday kumar\n",
      "[]\n",
      "['_', 'd', '_', 'y', ' ', 'k', '_', 'm', '_', 'r']\n",
      "_d_y k_m_r\n"
     ]
    }
   ],
   "source": [
    "#10. WAP to inputa a string and replace all vowels with ‘_’.\n",
    "#[Hint: Convert string to list. Remember!! Strings are immutable. Replace in the list and then join] \n",
    "str1 = input(\"enter the string:\")\n",
    "a = []\n",
    "print(a)\n",
    "l = ['a','e','i','o','u','A','E','I','O','U']\n",
    "for i in range(len(str1)):\n",
    "    a.append(str1[i])\n",
    "    if a[i] in l:\n",
    "        a[i] ='_'\n",
    "print(a)\n",
    "str2 =''.join(a)\n",
    "print(str2)"
   ]
  },
  {
   "cell_type": "code",
   "execution_count": 3,
   "metadata": {},
   "outputs": [
    {
     "name": "stdout",
     "output_type": "stream",
     "text": [
      "Num: 0\n",
      "loop ends\n"
     ]
    }
   ],
   "source": [
    "#11. Find output: \n",
    "#a)\n",
    "for num in range(10):\n",
    "    print('Num:',num)\n",
    "    if num%4 == 0:\n",
    "        break\n",
    "print(\"loop ends\")    "
   ]
  },
  {
   "cell_type": "code",
   "execution_count": 5,
   "metadata": {
    "scrolled": true
   },
   "outputs": [
    {
     "name": "stdout",
     "output_type": "stream",
     "text": [
      "Num: 0\n"
     ]
    },
    {
     "ename": "SystemExit",
     "evalue": "",
     "output_type": "error",
     "traceback": [
      "An exception has occurred, use %tb to see the full traceback.\n",
      "\u001b[1;31mSystemExit\u001b[0m\n"
     ]
    }
   ],
   "source": [
    "#b)\n",
    "import sys\n",
    "for num in range(10):\n",
    "    print('Num:',num)\n",
    "    if num%4 == 0:\n",
    "        sys.exit()\n",
    "print(\"loop ends\")\n"
   ]
  },
  {
   "cell_type": "code",
   "execution_count": 8,
   "metadata": {},
   "outputs": [
    {
     "name": "stdout",
     "output_type": "stream",
     "text": [
      "*****\n",
      "*****\n",
      "*****\n",
      "*****\n",
      "*****\n"
     ]
    }
   ],
   "source": [
    "#12. Find the output of the following code snippets.\n",
    "#a)\n",
    "for i1 in range(1,6):\n",
    "    for i2 in range(5):\n",
    "        print('*',end ='')\n",
    "    print()     "
   ]
  },
  {
   "cell_type": "code",
   "execution_count": 9,
   "metadata": {},
   "outputs": [
    {
     "name": "stdout",
     "output_type": "stream",
     "text": [
      "1\n",
      "22\n",
      "333\n",
      "4444\n",
      "55555\n"
     ]
    }
   ],
   "source": [
    "#b)\n",
    "for i1 in range(1,6):\n",
    "    for i2 in range(i1):\n",
    "        print(i1,end ='')\n",
    "    print()     "
   ]
  },
  {
   "cell_type": "code",
   "execution_count": 10,
   "metadata": {},
   "outputs": [
    {
     "name": "stdout",
     "output_type": "stream",
     "text": [
      "1\n",
      "22\n",
      "333\n",
      "4444\n",
      "55555\n"
     ]
    }
   ],
   "source": [
    "for i1 in range(1,6):\n",
    "    print(str(i1)*i1)     "
   ]
  },
  {
   "cell_type": "code",
   "execution_count": 11,
   "metadata": {
    "scrolled": false
   },
   "outputs": [
    {
     "name": "stdout",
     "output_type": "stream",
     "text": [
      "**\n",
      "***\n",
      "****\n",
      "*****\n",
      "******\n"
     ]
    }
   ],
   "source": [
    "for i1 in range(1,6):\n",
    "    for i2 in range(i1+1):\n",
    "        print('*',end ='')\n",
    "    print()     "
   ]
  },
  {
   "cell_type": "markdown",
   "metadata": {},
   "source": [
    "# AssignmentPython7Dict- If-else, loops"
   ]
  },
  {
   "cell_type": "code",
   "execution_count": 13,
   "metadata": {},
   "outputs": [
    {
     "name": "stdout",
     "output_type": "stream",
     "text": [
      "Input a number 5\n",
      "{1: -1, 2: -2, 3: -3, 4: -4, 5: -5}\n"
     ]
    }
   ],
   "source": [
    "#1.WAP to create a dictionary of numbers mapped to their negative value for numbers from 1-5.\n",
    "#The dictionary should contain something like this:\n",
    "#Do with both with and without range based for loop.\n",
    "#{1:-1,2:-2,3:-3….} \n",
    "\n",
    "\n",
    "n=int(input(\"Input a number \"))\n",
    "d = dict()\n",
    "\n",
    "for x in range(1,n+1):\n",
    "    d[x]= -x\n",
    "\n",
    "print(d) "
   ]
  },
  {
   "cell_type": "code",
   "execution_count": 14,
   "metadata": {
    "scrolled": true
   },
   "outputs": [
    {
     "ename": "SyntaxError",
     "evalue": "invalid syntax (<ipython-input-14-5f425716dc75>, line 1)",
     "output_type": "error",
     "traceback": [
      "\u001b[1;36m  File \u001b[1;32m\"<ipython-input-14-5f425716dc75>\"\u001b[1;36m, line \u001b[1;32m1\u001b[0m\n\u001b[1;33m    d= {1=2,2=3}\u001b[0m\n\u001b[1;37m         ^\u001b[0m\n\u001b[1;31mSyntaxError\u001b[0m\u001b[1;31m:\u001b[0m invalid syntax\n"
     ]
    }
   ],
   "source": [
    "d= {1=2,2=3}\n"
   ]
  },
  {
   "cell_type": "code",
   "execution_count": 16,
   "metadata": {},
   "outputs": [
    {
     "name": "stdout",
     "output_type": "stream",
     "text": [
      "{1: 2, 2: 3}\n"
     ]
    }
   ],
   "source": [
    "d = {1:2,2:3}\n",
    "print(d)"
   ]
  },
  {
   "cell_type": "code",
   "execution_count": 18,
   "metadata": {},
   "outputs": [
    {
     "ename": "SyntaxError",
     "evalue": "invalid syntax (<ipython-input-18-e1ac6c9feaad>, line 1)",
     "output_type": "error",
     "traceback": [
      "\u001b[1;36m  File \u001b[1;32m\"<ipython-input-18-e1ac6c9feaad>\"\u001b[1;36m, line \u001b[1;32m1\u001b[0m\n\u001b[1;33m    d = {1,2 ;2,3}\u001b[0m\n\u001b[1;37m             ^\u001b[0m\n\u001b[1;31mSyntaxError\u001b[0m\u001b[1;31m:\u001b[0m invalid syntax\n"
     ]
    }
   ],
   "source": [
    "d = {1,2 ;2,3}\n",
    "print(d)"
   ]
  },
  {
   "cell_type": "code",
   "execution_count": 19,
   "metadata": {},
   "outputs": [
    {
     "name": "stdout",
     "output_type": "stream",
     "text": [
      "{(1, 2), (2, 3)}\n"
     ]
    }
   ],
   "source": [
    "d = {(1,2),(2,3)}\n",
    "print(d)"
   ]
  },
  {
   "cell_type": "code",
   "execution_count": 26,
   "metadata": {
    "scrolled": true
   },
   "outputs": [
    {
     "ename": "NameError",
     "evalue": "name 'c' is not defined",
     "output_type": "error",
     "traceback": [
      "\u001b[1;31m---------------------------------------------------------------------------\u001b[0m",
      "\u001b[1;31mNameError\u001b[0m                                 Traceback (most recent call last)",
      "\u001b[1;32m<ipython-input-26-0d2b97c982df>\u001b[0m in \u001b[0;36m<module>\u001b[1;34m\u001b[0m\n\u001b[1;32m----> 1\u001b[1;33m \u001b[0md\u001b[0m \u001b[1;33m=\u001b[0m \u001b[1;33m{\u001b[0m\u001b[1;34m'a'\u001b[0m\u001b[1;33m:\u001b[0m\u001b[1;34m'A'\u001b[0m\u001b[1;33m,\u001b[0m\u001b[1;34m'b'\u001b[0m\u001b[1;33m:\u001b[0m\u001b[0ml\u001b[0m\u001b[1;33m,\u001b[0m\u001b[0mc\u001b[0m\u001b[1;33m:\u001b[0m\u001b[1;33m[\u001b[0m\u001b[1;36m1\u001b[0m\u001b[1;33m,\u001b[0m\u001b[1;36m2\u001b[0m\u001b[1;33m,\u001b[0m\u001b[1;36m3\u001b[0m\u001b[1;33m]\u001b[0m\u001b[1;33m}\u001b[0m\u001b[1;33m\u001b[0m\u001b[1;33m\u001b[0m\u001b[0m\n\u001b[0m\u001b[0;32m      2\u001b[0m \u001b[0mprint\u001b[0m\u001b[1;33m(\u001b[0m\u001b[0md\u001b[0m\u001b[1;33m)\u001b[0m\u001b[1;33m\u001b[0m\u001b[1;33m\u001b[0m\u001b[0m\n",
      "\u001b[1;31mNameError\u001b[0m: name 'c' is not defined"
     ]
    }
   ],
   "source": [
    "d = {'a':'A','b':l,c:[1,2,3]}\n",
    "print(d)"
   ]
  },
  {
   "cell_type": "code",
   "execution_count": 24,
   "metadata": {},
   "outputs": [
    {
     "name": "stdout",
     "output_type": "stream",
     "text": [
      "{'a': 'A', 'b': ['a', 'e', 'i', 'o', 'u', 'A', 'E', 'I', 'O', 'U'], 'c': [1, 2, 3]}\n"
     ]
    }
   ],
   "source": [
    "d = {'a':'A','b':l,'c':[1,2,3]}\n",
    "print(d)"
   ]
  },
  {
   "cell_type": "code",
   "execution_count": 27,
   "metadata": {},
   "outputs": [
    {
     "name": "stdout",
     "output_type": "stream",
     "text": [
      "{1: 2, 2: 3}\n"
     ]
    }
   ],
   "source": [
    "d = dict([(1,2),(2,3)])\n",
    "print(d)"
   ]
  },
  {
   "cell_type": "code",
   "execution_count": 28,
   "metadata": {},
   "outputs": [
    {
     "name": "stdout",
     "output_type": "stream",
     "text": [
      "{1: 2, 2: 3}\n"
     ]
    }
   ],
   "source": [
    "d = dict(((1,2),(2,3)))\n",
    "print(d)"
   ]
  },
  {
   "cell_type": "code",
   "execution_count": 29,
   "metadata": {},
   "outputs": [
    {
     "ename": "SyntaxError",
     "evalue": "invalid syntax (<ipython-input-29-48b583b3516d>, line 1)",
     "output_type": "error",
     "traceback": [
      "\u001b[1;36m  File \u001b[1;32m\"<ipython-input-29-48b583b3516d>\"\u001b[1;36m, line \u001b[1;32m1\u001b[0m\n\u001b[1;33m    d = dict((1,2),(2,3)])\u001b[0m\n\u001b[1;37m                        ^\u001b[0m\n\u001b[1;31mSyntaxError\u001b[0m\u001b[1;31m:\u001b[0m invalid syntax\n"
     ]
    }
   ],
   "source": [
    "d = dict((1,2),(2,3)])\n",
    "print(d)"
   ]
  },
  {
   "cell_type": "code",
   "execution_count": 30,
   "metadata": {},
   "outputs": [
    {
     "name": "stdout",
     "output_type": "stream",
     "text": [
      "{'x': 2, 'y': 3}\n"
     ]
    }
   ],
   "source": [
    "d = dict(x =2 ,y =3)\n",
    "print(d)"
   ]
  },
  {
   "cell_type": "code",
   "execution_count": 31,
   "metadata": {},
   "outputs": [
    {
     "ename": "SyntaxError",
     "evalue": "keyword can't be an expression (<ipython-input-31-7a274ff4b9b4>, line 1)",
     "output_type": "error",
     "traceback": [
      "\u001b[1;36m  File \u001b[1;32m\"<ipython-input-31-7a274ff4b9b4>\"\u001b[1;36m, line \u001b[1;32m1\u001b[0m\n\u001b[1;33m    d = dict('x' =2 ,'y' =3)\u001b[0m\n\u001b[1;37m            ^\u001b[0m\n\u001b[1;31mSyntaxError\u001b[0m\u001b[1;31m:\u001b[0m keyword can't be an expression\n"
     ]
    }
   ],
   "source": [
    "d = dict('x' =2 ,'y' =3)\n",
    "print(d)"
   ]
  },
  {
   "cell_type": "code",
   "execution_count": 34,
   "metadata": {},
   "outputs": [
    {
     "ename": "SyntaxError",
     "evalue": "keyword can't be an expression (<ipython-input-34-03e9d4cc4b49>, line 1)",
     "output_type": "error",
     "traceback": [
      "\u001b[1;36m  File \u001b[1;32m\"<ipython-input-34-03e9d4cc4b49>\"\u001b[1;36m, line \u001b[1;32m1\u001b[0m\n\u001b[1;33m    d = dict(1=2 ,2 = 3)\u001b[0m\n\u001b[1;37m            ^\u001b[0m\n\u001b[1;31mSyntaxError\u001b[0m\u001b[1;31m:\u001b[0m keyword can't be an expression\n"
     ]
    }
   ],
   "source": [
    "d = dict(1=2 ,2 = 3)\n",
    "print(d)"
   ]
  },
  {
   "cell_type": "code",
   "execution_count": 61,
   "metadata": {},
   "outputs": [
    {
     "name": "stdout",
     "output_type": "stream",
     "text": [
      "{1: 10, 2: 20, 3: 30, 4: 40}\n"
     ]
    }
   ],
   "source": [
    "#3. Read help for zip and write a program that has two lists\n",
    "#l1 = [1,2,3,4]\n",
    "#l2 = [10,20,30,40]\n",
    "#And converts them to a dictionary d containing { 1:10,2:20 …….}\n",
    "l1 =[1,2,3,4]\n",
    "l2 =[10,20,30,40]\n",
    "z = zip(l1,l2)\n",
    "d = dict(z)\n",
    "print(d)\n"
   ]
  },
  {
   "cell_type": "code",
   "execution_count": 55,
   "metadata": {},
   "outputs": [
    {
     "name": "stdout",
     "output_type": "stream",
     "text": [
      "{'A': 65, 'B': 66, 'C': 67, 'D': 68, 'E': 69, 'F': 70, 'G': 71, 'H': 72, 'I': 73, 'J': 74, 'K': 75, 'L': 76, 'M': 77, 'N': 78, 'O': 79, 'P': 80, 'Q': 81, 'R': 82, 'S': 83, 'T': 84, 'U': 85, 'V': 86, 'W': 87, 'X': 88, 'Y': 89, 'Z': 90}\n",
      "['A', 'B', 'C', 'D', 'E', 'F', 'G', 'H', 'I', 'J', 'K', 'L', 'M', 'N', 'O', 'P', 'Q', 'R', 'S', 'T', 'U', 'V', 'W', 'X', 'Y', 'Z']\n",
      "[65, 66, 67, 68, 69, 70, 71, 72, 73, 74, 75, 76, 77, 78, 79, 80, 81, 82, 83, 84, 85, 86, 87, 88, 89, 90]\n"
     ]
    }
   ],
   "source": [
    "#4.Use range based for loop to store all upper case alphabets and their corresponding ASCII\n",
    "#values in the dictionary d.\n",
    "#The result should be d = {‘A’: 65, ‘B’:66,…..}\n",
    "d = dict()\n",
    "for x in range(65,91):\n",
    "    d[chr(x)]= x\n",
    "print(d) \n",
    "\n",
    "\n",
    "\n",
    "\n",
    "\n"
   ]
  },
  {
   "cell_type": "code",
   "execution_count": 62,
   "metadata": {
    "scrolled": true
   },
   "outputs": [
    {
     "name": "stdout",
     "output_type": "stream",
     "text": [
      "{0: 'zero', 1: 'one', 2: 'two', 3: 'third', 4: 'four', 5: 'five', 6: 'six', 7: 'seven', 8: 'eight', 9: 'nine'}\n",
      "[0, 1, 2, 3, 4, 5, 6, 7, 8, 9]\n",
      "['zero', 'one', 'two', 'third', 'four', 'five', 'six', 'seven', 'eight', 'nine']\n"
     ]
    }
   ],
   "source": [
    "#5. Create a mapping of number to word from 0-9. (0:’zero’……)\n",
    "#• Ask user for a single digit number and print the corresponding word format.\n",
    "#• Print all keys of above dictionary\n",
    "#• Print all Values of a dictionary\n",
    "#• Print all Key and Value pairs of above dictionary \n",
    "li1 =[0,1,2,3,4,5,6,7,8,9]\n",
    "li2 =['zero','one','two','third','four','five','six','seven','eight','nine']\n",
    "d = dict(zip(li1,li2))\n",
    "print(d)\n",
    "print(list(d.keys()))\n",
    "print(list(d.values()))"
   ]
  },
  {
   "cell_type": "code",
   "execution_count": 65,
   "metadata": {},
   "outputs": [
    {
     "name": "stdout",
     "output_type": "stream",
     "text": [
      "{'A': 'Apple', 'C': 'Cat'}\n"
     ]
    }
   ],
   "source": [
    "#6. Predict Output of: \n",
    "li1 =['A','B','C','D']\n",
    "li2 =['Apple','Ball','Cat','Dog']\n",
    "d = dict(zip(li1,li2))\n",
    "d1 = dict(list(d.items()) [::2])\n",
    "print(d1)"
   ]
  },
  {
   "cell_type": "code",
   "execution_count": 66,
   "metadata": {},
   "outputs": [
    {
     "name": "stdout",
     "output_type": "stream",
     "text": [
      "enter the string:Beautiful Day\n",
      "{'a': 2, 'e': 1, 'i': 1, 'o': 0, 'u': 2}\n"
     ]
    }
   ],
   "source": [
    "#7.WAP to input a string and count occurrence of each vowel in a string.\n",
    "#Ex: if user enters:\n",
    " #“Beautiful Day” \n",
    "vowels ='aeiou' \n",
    "str1 = input('enter the string:')\n",
    "str1 = str1.casefold()\n",
    "\n",
    "count = {}.fromkeys(vowels,0)\n",
    "for char in str1:\n",
    "    if char in count:\n",
    "        count[char] += 1\n",
    "\n",
    "print(count)"
   ]
  },
  {
   "cell_type": "code",
   "execution_count": 67,
   "metadata": {},
   "outputs": [
    {
     "name": "stdout",
     "output_type": "stream",
     "text": [
      "enter the string:Beautiful Day\n",
      "Count of all characters of given string is :\n",
      " {'B': 1, 'e': 1, 'a': 2, 'u': 2, 't': 1, 'i': 1, 'f': 1, 'l': 1, ' ': 1, 'D': 1, 'y': 1}\n"
     ]
    }
   ],
   "source": [
    "#8. Update above program to print frequency of each alphabet present in string.\n",
    "str1 = input('enter the string:')\n",
    "all_freq = {} \n",
    "  \n",
    "for i in str1: \n",
    "    if i in all_freq: \n",
    "        all_freq[i] += 1\n",
    "    else: \n",
    "        all_freq[i] = 1 \n",
    "print (\"Count of all characters of given string is :\\n \"+  str(all_freq)) \n"
   ]
  },
  {
   "cell_type": "code",
   "execution_count": 68,
   "metadata": {
    "scrolled": true
   },
   "outputs": [
    {
     "name": "stdout",
     "output_type": "stream",
     "text": [
      "Enter string:count the words in the sentence in\n",
      "{'count': 1, 'the': 2, 'words': 1, 'in': 2, 'sentence': 1}\n"
     ]
    }
   ],
   "source": [
    "#9.WAP that takes a string as input and prints frequency of each word.\n",
    "str1=input(\"Enter string:\")\n",
    "l=[]\n",
    "l=str1.split()\n",
    "wordfreq=[l.count(p) for p in l]\n",
    "print(dict(zip(l,wordfreq)))"
   ]
  },
  {
   "cell_type": "markdown",
   "metadata": {},
   "source": [
    "# AustraliaImmigrantsPandas"
   ]
  },
  {
   "cell_type": "code",
   "execution_count": 69,
   "metadata": {},
   "outputs": [],
   "source": [
    "import pandas as pd"
   ]
  },
  {
   "cell_type": "code",
   "execution_count": 72,
   "metadata": {},
   "outputs": [],
   "source": [
    "#Read sheet \"Australia by Residence\" from Australia.xlsx\n",
    "#Ignore the first 20 rows.\n",
    "\n",
    "data = pd.read_excel(r'C:/Users/UDAY/Downloads/Australia.xlsx',skiprows = 20, sheet_name = 'Australia by Residence')"
   ]
  },
  {
   "cell_type": "code",
   "execution_count": 73,
   "metadata": {
    "scrolled": true
   },
   "outputs": [
    {
     "data": {
      "text/html": [
       "<div>\n",
       "<style scoped>\n",
       "    .dataframe tbody tr th:only-of-type {\n",
       "        vertical-align: middle;\n",
       "    }\n",
       "\n",
       "    .dataframe tbody tr th {\n",
       "        vertical-align: top;\n",
       "    }\n",
       "\n",
       "    .dataframe thead th {\n",
       "        text-align: right;\n",
       "    }\n",
       "</style>\n",
       "<table border=\"1\" class=\"dataframe\">\n",
       "  <thead>\n",
       "    <tr style=\"text-align: right;\">\n",
       "      <th></th>\n",
       "      <th>Type</th>\n",
       "      <th>Coverage</th>\n",
       "      <th>OdName</th>\n",
       "      <th>AREA</th>\n",
       "      <th>AreaName</th>\n",
       "      <th>REG</th>\n",
       "      <th>RegName</th>\n",
       "      <th>DEV</th>\n",
       "      <th>DevName</th>\n",
       "      <th>1980</th>\n",
       "      <th>...</th>\n",
       "      <th>2004</th>\n",
       "      <th>2005</th>\n",
       "      <th>2006</th>\n",
       "      <th>2007</th>\n",
       "      <th>2008</th>\n",
       "      <th>2009</th>\n",
       "      <th>2010</th>\n",
       "      <th>2011</th>\n",
       "      <th>2012</th>\n",
       "      <th>2013</th>\n",
       "    </tr>\n",
       "  </thead>\n",
       "  <tbody>\n",
       "    <tr>\n",
       "      <th>0</th>\n",
       "      <td>Emigrants</td>\n",
       "      <td>Both</td>\n",
       "      <td>Afghanistan</td>\n",
       "      <td>935</td>\n",
       "      <td>Asia</td>\n",
       "      <td>5501</td>\n",
       "      <td>Southern Asia</td>\n",
       "      <td>902</td>\n",
       "      <td>Developing regions</td>\n",
       "      <td>0</td>\n",
       "      <td>...</td>\n",
       "      <td>80</td>\n",
       "      <td>120</td>\n",
       "      <td>70</td>\n",
       "      <td>80</td>\n",
       "      <td>120</td>\n",
       "      <td>..</td>\n",
       "      <td>..</td>\n",
       "      <td>..</td>\n",
       "      <td>..</td>\n",
       "      <td>..</td>\n",
       "    </tr>\n",
       "    <tr>\n",
       "      <th>1</th>\n",
       "      <td>Emigrants</td>\n",
       "      <td>Both</td>\n",
       "      <td>Albania</td>\n",
       "      <td>908</td>\n",
       "      <td>Europe</td>\n",
       "      <td>925</td>\n",
       "      <td>Southern Europe</td>\n",
       "      <td>901</td>\n",
       "      <td>Developed regions</td>\n",
       "      <td>0</td>\n",
       "      <td>...</td>\n",
       "      <td>30</td>\n",
       "      <td>40</td>\n",
       "      <td>30</td>\n",
       "      <td>30</td>\n",
       "      <td>30</td>\n",
       "      <td>..</td>\n",
       "      <td>..</td>\n",
       "      <td>..</td>\n",
       "      <td>..</td>\n",
       "      <td>..</td>\n",
       "    </tr>\n",
       "    <tr>\n",
       "      <th>2</th>\n",
       "      <td>Emigrants</td>\n",
       "      <td>Both</td>\n",
       "      <td>Algeria</td>\n",
       "      <td>903</td>\n",
       "      <td>Africa</td>\n",
       "      <td>912</td>\n",
       "      <td>Northern Africa</td>\n",
       "      <td>902</td>\n",
       "      <td>Developing regions</td>\n",
       "      <td>20</td>\n",
       "      <td>...</td>\n",
       "      <td>20</td>\n",
       "      <td>20</td>\n",
       "      <td>30</td>\n",
       "      <td>40</td>\n",
       "      <td>50</td>\n",
       "      <td>..</td>\n",
       "      <td>..</td>\n",
       "      <td>..</td>\n",
       "      <td>..</td>\n",
       "      <td>..</td>\n",
       "    </tr>\n",
       "    <tr>\n",
       "      <th>3</th>\n",
       "      <td>Emigrants</td>\n",
       "      <td>Both</td>\n",
       "      <td>American Samoa</td>\n",
       "      <td>909</td>\n",
       "      <td>Oceania</td>\n",
       "      <td>957</td>\n",
       "      <td>Polynesia</td>\n",
       "      <td>902</td>\n",
       "      <td>Developing regions</td>\n",
       "      <td>10</td>\n",
       "      <td>...</td>\n",
       "      <td>0</td>\n",
       "      <td>0</td>\n",
       "      <td>0</td>\n",
       "      <td>0</td>\n",
       "      <td>0</td>\n",
       "      <td>..</td>\n",
       "      <td>..</td>\n",
       "      <td>..</td>\n",
       "      <td>..</td>\n",
       "      <td>..</td>\n",
       "    </tr>\n",
       "    <tr>\n",
       "      <th>4</th>\n",
       "      <td>Emigrants</td>\n",
       "      <td>Both</td>\n",
       "      <td>Andorra</td>\n",
       "      <td>908</td>\n",
       "      <td>Europe</td>\n",
       "      <td>925</td>\n",
       "      <td>Southern Europe</td>\n",
       "      <td>901</td>\n",
       "      <td>Developed regions</td>\n",
       "      <td>0</td>\n",
       "      <td>...</td>\n",
       "      <td>0</td>\n",
       "      <td>0</td>\n",
       "      <td>0</td>\n",
       "      <td>0</td>\n",
       "      <td>0</td>\n",
       "      <td>..</td>\n",
       "      <td>..</td>\n",
       "      <td>..</td>\n",
       "      <td>..</td>\n",
       "      <td>..</td>\n",
       "    </tr>\n",
       "  </tbody>\n",
       "</table>\n",
       "<p>5 rows × 43 columns</p>\n",
       "</div>"
      ],
      "text/plain": [
       "        Type Coverage          OdName  AREA AreaName   REG          RegName  \\\n",
       "0  Emigrants     Both     Afghanistan   935     Asia  5501    Southern Asia   \n",
       "1  Emigrants     Both         Albania   908   Europe   925  Southern Europe   \n",
       "2  Emigrants     Both         Algeria   903   Africa   912  Northern Africa   \n",
       "3  Emigrants     Both  American Samoa   909  Oceania   957        Polynesia   \n",
       "4  Emigrants     Both         Andorra   908   Europe   925  Southern Europe   \n",
       "\n",
       "   DEV             DevName  1980  ...   2004  2005  2006  2007  2008  2009  \\\n",
       "0  902  Developing regions     0  ...     80   120    70    80   120    ..   \n",
       "1  901   Developed regions     0  ...     30    40    30    30    30    ..   \n",
       "2  902  Developing regions    20  ...     20    20    30    40    50    ..   \n",
       "3  902  Developing regions    10  ...      0     0     0     0     0    ..   \n",
       "4  901   Developed regions     0  ...      0     0     0     0     0    ..   \n",
       "\n",
       "   2010  2011  2012  2013  \n",
       "0    ..    ..    ..    ..  \n",
       "1    ..    ..    ..    ..  \n",
       "2    ..    ..    ..    ..  \n",
       "3    ..    ..    ..    ..  \n",
       "4    ..    ..    ..    ..  \n",
       "\n",
       "[5 rows x 43 columns]"
      ]
     },
     "execution_count": 73,
     "metadata": {},
     "output_type": "execute_result"
    }
   ],
   "source": [
    "data.head()\n"
   ]
  },
  {
   "cell_type": "code",
   "execution_count": 78,
   "metadata": {
    "scrolled": true
   },
   "outputs": [
    {
     "name": "stdout",
     "output_type": "stream",
     "text": [
      "Index([    'Type', 'Coverage',   'OdName',     'AREA', 'AreaName',      'REG',\n",
      "        'RegName',      'DEV',  'DevName',       1980,       1981,       1982,\n",
      "             1983,       1984,       1985,       1986,       1987,       1988,\n",
      "             1989,       1990,       1991,       1992,       1993,       1994,\n",
      "             1995,       1996,       1997,       1998,       1999,       2000,\n",
      "             2001,       2002,       2003,       2004,       2005,       2006,\n",
      "             2007,       2008,       2009,       2010,       2011,       2012,\n",
      "             2013],\n",
      "      dtype='object')\n",
      "RangeIndex(start=0, stop=448, step=1)\n"
     ]
    }
   ],
   "source": [
    "#List all Column and Row indexes(Print their names)\n",
    "print(data.columns)\n",
    "print(data.index)"
   ]
  },
  {
   "cell_type": "code",
   "execution_count": 1,
   "metadata": {},
   "outputs": [
    {
     "ename": "NameError",
     "evalue": "name 'data' is not defined",
     "output_type": "error",
     "traceback": [
      "\u001b[1;31m---------------------------------------------------------------------------\u001b[0m",
      "\u001b[1;31mNameError\u001b[0m                                 Traceback (most recent call last)",
      "\u001b[1;32m<ipython-input-1-eac78bbeafc5>\u001b[0m in \u001b[0;36m<module>\u001b[1;34m\u001b[0m\n\u001b[0;32m      5\u001b[0m \u001b[1;31m#Check Shape, Datatypes and other attributes\u001b[0m\u001b[1;33m\u001b[0m\u001b[1;33m\u001b[0m\u001b[1;33m\u001b[0m\u001b[0m\n\u001b[0;32m      6\u001b[0m \u001b[1;31m#Observe the datatype of each columns' data\u001b[0m\u001b[1;33m\u001b[0m\u001b[1;33m\u001b[0m\u001b[1;33m\u001b[0m\u001b[0m\n\u001b[1;32m----> 7\u001b[1;33m \u001b[0mprint\u001b[0m\u001b[1;33m(\u001b[0m\u001b[0mdata\u001b[0m\u001b[1;33m.\u001b[0m\u001b[0mdescribe\u001b[0m\u001b[1;33m(\u001b[0m\u001b[0minclude\u001b[0m \u001b[1;33m=\u001b[0m \u001b[1;34m'all'\u001b[0m\u001b[1;33m)\u001b[0m\u001b[1;33m)\u001b[0m\u001b[1;33m\u001b[0m\u001b[1;33m\u001b[0m\u001b[0m\n\u001b[0m\u001b[0;32m      8\u001b[0m \u001b[1;33m\u001b[0m\u001b[0m\n",
      "\u001b[1;31mNameError\u001b[0m: name 'data' is not defined"
     ]
    }
   ],
   "source": [
    "#Dataset Analysis\n",
    "\n",
    "#Describe the dataset\n",
    "#Use values and index attributes on both Row and Column Indexes\n",
    "#Check Shape, Datatypes and other attributes\n",
    "#Observe the datatype of each columns' data\n",
    "print(data.describe(include = 'all'))\n",
    "\n"
   ]
  },
  {
   "cell_type": "code",
   "execution_count": null,
   "metadata": {},
   "outputs": [],
   "source": []
  },
  {
   "cell_type": "code",
   "execution_count": null,
   "metadata": {},
   "outputs": [],
   "source": []
  },
  {
   "cell_type": "code",
   "execution_count": null,
   "metadata": {},
   "outputs": [],
   "source": []
  }
 ],
 "metadata": {
  "kernelspec": {
   "display_name": "Python 3",
   "language": "python",
   "name": "python3"
  },
  "language_info": {
   "codemirror_mode": {
    "name": "ipython",
    "version": 3
   },
   "file_extension": ".py",
   "mimetype": "text/x-python",
   "name": "python",
   "nbconvert_exporter": "python",
   "pygments_lexer": "ipython3",
   "version": "3.6.7"
  }
 },
 "nbformat": 4,
 "nbformat_minor": 2
}
